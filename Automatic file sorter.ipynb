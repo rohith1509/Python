{
 "cells": [
  {
   "cell_type": "code",
   "execution_count": 11,
   "id": "cb9e69d1",
   "metadata": {},
   "outputs": [],
   "source": [
    "import os,shutil\n",
    "path=r\"C:/Users/panch/Desktop/Auto_Test/\""
   ]
  },
  {
   "cell_type": "code",
   "execution_count": 12,
   "id": "153ac380",
   "metadata": {},
   "outputs": [],
   "source": [
    "file_name=os.listdir(path)\n",
    "folder_names=['xl files','image files','txt files']\n",
    "for x in range(0,3):\n",
    "    if not os.path.exists(path + folder_names[x]):\n",
    "        os.makedirs(path + folder_names[x])"
   ]
  },
  {
   "cell_type": "code",
   "execution_count": 18,
   "id": "99d6bdcb",
   "metadata": {},
   "outputs": [],
   "source": [
    "for file in file_name:\n",
    "    if \".png\" in file and not os.path.exists(path + \"image files/\"+file):\n",
    "        shutil.move(path+file,path+\"image files/\"+file)\n",
    "    elif \".xlsx\" in file and not os.path.exists(path + \"xl files/\"+file):\n",
    "        shutil.move(path+file,path+\"xl files/\"+file)\n",
    "    elif \".txt\" in file and not os.path.exists(path + \"txt files/\"+file):\n",
    "        shutil.move(path+file,path+\"txt files/\"+file) \n",
    "        "
   ]
  },
  {
   "cell_type": "code",
   "execution_count": null,
   "id": "c76dc7ae",
   "metadata": {},
   "outputs": [],
   "source": []
  }
 ],
 "metadata": {
  "kernelspec": {
   "display_name": "Python 3 (ipykernel)",
   "language": "python",
   "name": "python3"
  },
  "language_info": {
   "codemirror_mode": {
    "name": "ipython",
    "version": 3
   },
   "file_extension": ".py",
   "mimetype": "text/x-python",
   "name": "python",
   "nbconvert_exporter": "python",
   "pygments_lexer": "ipython3",
   "version": "3.9.12"
  }
 },
 "nbformat": 4,
 "nbformat_minor": 5
}
